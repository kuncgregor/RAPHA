{
 "cells": [
  {
   "cell_type": "code",
   "execution_count": 129,
   "metadata": {},
   "outputs": [],
   "source": [
    "from os import listdir\n",
    "from os.path import isfile"
   ]
  },
  {
   "cell_type": "code",
   "execution_count": 130,
   "metadata": {},
   "outputs": [],
   "source": [
    "import os\n",
    "from datetime import datetime"
   ]
  },
  {
   "cell_type": "code",
   "execution_count": 131,
   "metadata": {},
   "outputs": [
    {
     "name": "stdout",
     "output_type": "stream",
     "text": [
      "/Users/gregor/Nextcloud/RAPHA/GITRAPHA/MATRICE\n"
     ]
    }
   ],
   "source": [
    "directory = '/Users/gregor/Nextcloud/RAPHA/GITRAPHA/MATRICE'\n",
    "print(directory)"
   ]
  },
  {
   "cell_type": "code",
   "execution_count": 132,
   "metadata": {},
   "outputs": [],
   "source": [
    "README_file = open(directory + 'README.md', 'w')"
   ]
  },
  {
   "cell_type": "code",
   "execution_count": 133,
   "metadata": {},
   "outputs": [
    {
     "name": "stdout",
     "output_type": "stream",
     "text": [
      "/Users/gregor/Nextcloud/RAPHA/GITRAPHA/MATRICE/Hosanna-Saviour King-E-76.50bpm\n",
      "/Users/gregor/Nextcloud/RAPHA/GITRAPHA/MATRICE/STALBOM Project\n",
      "/Users/gregor/Nextcloud/RAPHA/GITRAPHA/MATRICE/Matrica-Blagoslov-C-70.00bpm Project\n",
      "/Users/gregor/Nextcloud/RAPHA/GITRAPHA/MATRICE/01Hozana-80bpm Project\n",
      "/Users/gregor/Nextcloud/RAPHA/GITRAPHA/MATRICE/PRAISE_127bpm Project\n",
      "/Users/gregor/Nextcloud/RAPHA/GITRAPHA/MATRICE/MogocenBog Project\n",
      "/Users/gregor/Nextcloud/RAPHA/GITRAPHA/MATRICE/YashuaRap_Samsebidovolj\n",
      "/Users/gregor/Nextcloud/RAPHA/GITRAPHA/MATRICE/Matrica-Wake-(live+studio+yt)-G-131bpm Project\n",
      "/Users/gregor/Nextcloud/RAPHA/GITRAPHA/MATRICE/NONE LIKE YOU-96bpm Project\n",
      "/Users/gregor/Nextcloud/RAPHA/GITRAPHA/MATRICE/MojDuhSeVeseli-Click+Guide Project\n",
      "/Users/gregor/Nextcloud/RAPHA/GITRAPHA/MATRICE/Matrica-SePredajam-D-77bpm Project\n",
      "/Users/gregor/Nextcloud/RAPHA/GITRAPHA/MATRICE/Matrica-Moj Duh Se Veseli-144bpm Project\n",
      "/Users/gregor/Nextcloud/RAPHA/GITRAPHA/MATRICE/Matrica-Po Vodi-D-126bpm Project\n",
      "/Users/gregor/Nextcloud/RAPHA/GITRAPHA/MATRICE/Matrica_WOYW-G-137bpm Project\n",
      "/Users/gregor/Nextcloud/RAPHA/GITRAPHA/MATRICE/Matrica-STALBOM-A-170bpm Project\n",
      "/Users/gregor/Nextcloud/RAPHA/GITRAPHA/MATRICE/GloriousDay-110-D Project\n",
      "/Users/gregor/Nextcloud/RAPHA/GITRAPHA/MATRICE/GlejPrihajam Project\n",
      "Total number of folders in /Users/gregor/Nextcloud/RAPHA/GITRAPHA/MATRICE: 17\n"
     ]
    }
   ],
   "source": [
    "folder_count = 0  \n",
    "\n",
    "for entry in os.listdir(directory):\n",
    "    entry_path = os.path.join(directory, entry)\n",
    "    \n",
    "\n",
    "    if os.path.isdir(entry_path):\n",
    "        folder_count += 1  \n",
    "        print(entry_path)\n",
    "\n",
    "print(f'Total number of folders in {directory}: {folder_count}')"
   ]
  },
  {
   "cell_type": "code",
   "execution_count": 134,
   "metadata": {},
   "outputs": [],
   "source": [
    "readme_path = os.path.join('/Users/gregor/Nextcloud/RAPHA/GITRAPHA/', 'README.md')"
   ]
  },
  {
   "cell_type": "code",
   "execution_count": 138,
   "metadata": {},
   "outputs": [
    {
     "name": "stdout",
     "output_type": "stream",
     "text": [
      "Hosanna-Saviour King-E-76.50bpm\n",
      "2024-10-17 19:48:15\n",
      "STALBOM Project\n",
      "2024-10-17 21:27:47\n",
      "Matrica-Blagoslov-C-70.00bpm Project\n",
      "2024-09-20 00:38:11\n",
      "01Hozana-80bpm Project\n",
      "2024-09-20 00:02:33\n",
      "PRAISE_127bpm Project\n",
      "2024-09-19 20:37:02\n",
      "MogocenBog Project\n",
      "2024-09-19 20:23:16\n",
      "YashuaRap_Samsebidovolj\n",
      "2024-09-07 23:43:26\n",
      "Matrica-Wake-(live+studio+yt)-G-131bpm Project\n",
      "2024-10-17 18:51:19\n",
      "NONE LIKE YOU-96bpm Project\n",
      "2024-09-19 20:25:38\n",
      "MojDuhSeVeseli-Click+Guide Project\n",
      "2024-10-16 17:59:06\n",
      "Matrica-SePredajam-D-77bpm Project\n",
      "2024-10-17 14:06:50\n",
      "Matrica-Moj Duh Se Veseli-144bpm Project\n",
      "2024-10-09 21:06:39\n",
      "Matrica-Po Vodi-D-126bpm Project\n",
      "2024-10-16 17:56:04\n",
      "Matrica_WOYW-G-137bpm Project\n",
      "2024-10-17 21:04:16\n",
      "Matrica-STALBOM-A-170bpm Project\n",
      "2024-09-07 17:10:08\n",
      "GloriousDay-110-D Project\n",
      "2024-10-09 20:42:18\n",
      "GlejPrihajam Project\n",
      "2024-09-04 15:42:33\n",
      "\n",
      "README.md file generated in:\n",
      "/Users/gregor/Nextcloud/RAPHA/GITRAPHA/MATRICE\n",
      "\n"
     ]
    }
   ],
   "source": [
    "with open(readme_path, 'w') as README_file:\n",
    "    \n",
    "    README_file.write('# Ableton projekti\\n\\n')\n",
    "    \n",
    "    README_file.write('## Folder with stems in <https://cloud.gapi.me/s/yfZzdnwFrams76C>\\n\\n' )\n",
    "    \n",
    "    for dir_name in os.listdir(directory):\n",
    "        folder_path = os.path.join(directory, dir_name)\n",
    "\n",
    "        if os.path.isdir(folder_path):\n",
    "            print(dir_name)\n",
    "            \n",
    "            last_modified_time = os.path.getmtime(folder_path)\n",
    "            formatted_time = datetime.fromtimestamp(last_modified_time).strftime('%Y-%m-%d %H:%M:%S')\n",
    "            print(formatted_time)\n",
    "            \n",
    "            README_file.write(f'- [Projekt: `{dir_name}`] - Last updated: {formatted_time}\\n\\n')\n",
    "\n",
    "print(f'\\nREADME.md file generated in:\\n{directory}\\n')"
   ]
  }
 ],
 "metadata": {
  "kernelspec": {
   "display_name": "base",
   "language": "python",
   "name": "python3"
  },
  "language_info": {
   "codemirror_mode": {
    "name": "ipython",
    "version": 3
   },
   "file_extension": ".py",
   "mimetype": "text/x-python",
   "name": "python",
   "nbconvert_exporter": "python",
   "pygments_lexer": "ipython3",
   "version": "3.12.7"
  }
 },
 "nbformat": 4,
 "nbformat_minor": 2
}
